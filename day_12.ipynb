{
 "cells": [
  {
   "cell_type": "code",
   "execution_count": null,
   "metadata": {},
   "outputs": [],
   "source": [
    "### What is a Module\n",
    "\n",
    "# A module is a file containing a set of codes or a set of functions which can be included to an application. A module could be a file containing a single variable, a function or a big code base.\n"
   ]
  },
  {
   "cell_type": "code",
   "execution_count": null,
   "metadata": {},
   "outputs": [],
   "source": [
    "### Creating a Module\n",
    "\n",
    "# To create a module we write our codes in a python script and we save it as a .py file. Create a file named mymodule.py inside your project folder. Let us write some code in this file.\n"
   ]
  },
  {
   "cell_type": "code",
   "execution_count": null,
   "metadata": {},
   "outputs": [],
   "source": [
    "# mymodule.py file\n",
    "def generate_full_name(firstname, lastname):\n",
    "    return firstname + ' ' + lastname"
   ]
  },
  {
   "cell_type": "code",
   "execution_count": null,
   "metadata": {},
   "outputs": [],
   "source": [
    "# Create main.py file in your project directory and import the mymodule.py file.\n",
    "# mymodule.py\n",
    "\n",
    "def greet(name):\n",
    "    return f\"Hello, {name}!\"\n",
    "\n",
    "# main.py\n",
    "import mymodule\n",
    "\n",
    "# Use the functions or variables defined in mymodule\n",
    "name = \"John\"\n",
    "greeting = mymodule.greet(name)\n",
    "print(greeting)\n",
    "\n",
    "# when running from directory\n",
    "python main.py\n",
    "\n"
   ]
  },
  {
   "cell_type": "code",
   "execution_count": null,
   "metadata": {},
   "outputs": [],
   "source": [
    " # We can have many functions in a file and we can import all the functions differently.\n",
    "\n",
    "# main.py file\n",
    "from mymodule import generate_full_name, sum_two_nums, person, gravity\n",
    "print(generate_full_name('Asabneh','Yetayeh'))\n",
    "print(sum_two_nums(1,9))\n",
    "mass = 100;\n",
    "weight = mass * gravity\n",
    "print(weight)\n",
    "print(person['firstname'])"
   ]
  },
  {
   "cell_type": "code",
   "execution_count": null,
   "metadata": {},
   "outputs": [],
   "source": [
    "### Import Functions from a Module and Renaming\n",
    "\n",
    "# During importing we can rename the name of the module.\n",
    "\n",
    "# main.py file\n",
    "from mymodule import generate_full_name as fullname, sum_two_nums as total, person as p, gravity as g\n",
    "print(fullname('Asabneh','Yetayeh'))\n",
    "print(total(1, 9))\n",
    "mass = 100;\n",
    "weight = mass * g\n",
    "print(weight)\n",
    "print(p)\n",
    "print(p['firstname'])"
   ]
  },
  {
   "cell_type": "code",
   "execution_count": null,
   "metadata": {},
   "outputs": [],
   "source": [
    "## Import Built-in Modules\n",
    "\n",
    "# Like other programming languages we can also import modules by importing the file/function using the key word _import_. Let's import the common module we will use most of the time. Some of the common built-in modules: _math_, _datetime_, _os_,_sys_, _random_, _statistics_, _collections_, _json_,_re_\n"
   ]
  },
  {
   "cell_type": "code",
   "execution_count": null,
   "metadata": {},
   "outputs": [],
   "source": [
    "### OS Module\n",
    "\n",
    "# Using python _os_ module it is possible to automatically perform many operating system tasks. The OS module in Python provides functions for creating, changing current working directory, and removing a directory (folder), fetching its contents, changing and identifying the current directory.\n",
    "\n",
    "# import the module\n",
    "import os\n",
    "# Creating a directory\n",
    "os.mkdir('directory_name')\n",
    "# Changing the current directory\n",
    "os.chdir('path')\n",
    "# Getting current working directory\n",
    "os.getcwd()\n",
    "# Removing directory\n",
    "os.rmdir()"
   ]
  },
  {
   "cell_type": "code",
   "execution_count": null,
   "metadata": {},
   "outputs": [],
   "source": [
    "\n",
    "### Sys Module\n",
    "\n",
    "# the sys module provides functions and variables used to manipulate different parts of the Python runtime environment. Function sys.argv returns a list of command line arguments passed to a Python script. The item at index 0 in this list is always the name of the script, at index 1 is the argument passed from the command line.\n",
    "\n",
    "# Example of a script.py file:\n"
   ]
  },
  {
   "cell_type": "code",
   "execution_count": null,
   "metadata": {},
   "outputs": [],
   "source": [
    "import sys\n",
    "#print(sys.argv[0], argv[1],sys.argv[2])  # this line would print out: filename argument1 argument2\n",
    "\n",
    "print('Welcome {}. Enjoy  {} challenge!'.format(sys.argv[1], sys.argv[2]))\n",
    "\n",
    "# Now to check how this script works I wrote in command line:\n",
    "\n",
    "# python script.py Asabeneh 30DaysOfPython\n",
    "\n",
    "# The result:\n",
    "\n",
    "# Welcome Asabeneh. Enjoy  30DayOfPython challenge! \n",
    "\n",
    "# Some useful sys commands:"
   ]
  },
  {
   "cell_type": "code",
   "execution_count": null,
   "metadata": {},
   "outputs": [],
   "source": [
    "# to exit sys\n",
    "sys.exit()\n",
    "\n",
    "# To know the largest integer variable it takes\n",
    "sys.maxsize\n",
    "\n",
    "# To know environment path\n",
    "sys.path\n",
    "\n",
    "# To know the version of python you are using\n",
    "sys.version"
   ]
  },
  {
   "cell_type": "code",
   "execution_count": null,
   "metadata": {},
   "outputs": [],
   "source": [
    "### Statistics Module\n",
    "\n",
    "# The statistics module provides functions for mathematical statistics of numeric data. The popular statistical functions which are defined in this module: _mean_, _median_, _mode_, _stdev_ etc.\n",
    "\n",
    "\n",
    "from statistics import * # importing all the statistics modules\n",
    "ages = [20, 20, 4, 24, 25, 22, 26, 20, 23, 22, 26]\n",
    "print(mean(ages))       # ~22.9\n",
    "print(median(ages))     # 23\n",
    "print(mode(ages))       # 20\n",
    "print(stdev(ages))      # ~2.3\n"
   ]
  },
  {
   "cell_type": "code",
   "execution_count": null,
   "metadata": {},
   "outputs": [],
   "source": [
    "### Math Module\n",
    "\n",
    "# Module containing many mathematical operations and constants.\n",
    "\n",
    "import math\n",
    "print(math.pi)           # 3.141592653589793, pi constant\n",
    "print(math.sqrt(2))      # 1.4142135623730951, square root\n",
    "print(math.pow(2, 3))    # 8.0, exponential function\n",
    "print(math.floor(9.81))  # 9, rounding to the lowest\n",
    "print(math.ceil(9.81))   # 10, rounding to the highest\n",
    "print(math.log10(100))   # 2, logarithm with 10 as base\n",
    "\n",
    "# Now, we have imported the *math* module which contains lots of function which can help us to perform mathematical calculations. To check what functions the module has got, we can use _help(math)_, or _dir(math)_. This will display the available functions in the module. If we want to import only a specific function from the module we import it as follows:\n",
    "\n",
    "from math import pi\n",
    "print(pi)\n",
    "\n",
    "# It is also possible to import multiple functions at once\n",
    "\n",
    "from math import pi, sqrt, pow, floor, ceil, log10\n",
    "print(pi)                 # 3.141592653589793\n",
    "print(sqrt(2))            # 1.4142135623730951\n",
    "print(pow(2, 3))          # 8.0\n",
    "print(floor(9.81))        # 9\n",
    "print(ceil(9.81))         # 10\n",
    "print(math.log10(100))    # 2\n",
    "\n",
    "\n",
    "# But if we want to import all the function in math module we can use \\* .\n",
    "\n",
    "\n",
    "from math import *\n",
    "print(pi)                  # 3.141592653589793, pi constant\n",
    "print(sqrt(2))             # 1.4142135623730951, square root\n",
    "print(pow(2, 3))           # 8.0, exponential\n",
    "print(floor(9.81))         # 9, rounding to the lowest\n",
    "print(ceil(9.81))          # 10, rounding to the highest\n",
    "print(math.log10(100))     # 2\n",
    "\n",
    "# When we import we can also rename the name of the function.\n",
    "\n",
    "\n",
    "from math import pi as  PI\n",
    "print(PI) "
   ]
  },
  {
   "cell_type": "code",
   "execution_count": null,
   "metadata": {},
   "outputs": [],
   "source": [
    "### String Module\n",
    "\n",
    "# A string module is a useful module for many purposes. The example below shows some use of the string module\n",
    "\n",
    "import string\n",
    "print(string.ascii_letters) \n",
    "print(string.digits)       \n",
    "print(string.punctuation)   \n"
   ]
  },
  {
   "cell_type": "code",
   "execution_count": null,
   "metadata": {},
   "outputs": [],
   "source": [
    "### Random Module\n",
    "\n",
    "# By now you are familiar with importing modules. Let us do one more import to get very familiar with it. Let us import _random_ module which gives us a random number between 0 and 0.9999.... The _random_ module has lots of functions but in this section we will only use _random_ and _randint_.\n",
    "\n",
    "from random import random, randint\n",
    "print(random())   \n",
    "print(randint(5, 20)) "
   ]
  },
  {
   "cell_type": "code",
   "execution_count": null,
   "metadata": {},
   "outputs": [],
   "source": [
    "### Exercises: Level 1\n",
    "\n",
    " #1. Writ a function which generates a six digit/character random_user_id.\n",
    "import random\n",
    "import string\n",
    "\n",
    "def SixDigitsId():\n",
    "    # Generate a six-digit random user ID\n",
    "    random_id = ''.join(random.choices(string.digits, k=6))\n",
    "    return random_id\n",
    "\n",
    "# Example usage\n",
    "user_id = SixDigitsId()\n",
    "\n",
    "print(\"Random User ID:\", user_id)\n",
    "\n"
   ]
  },
  {
   "cell_type": "code",
   "execution_count": null,
   "metadata": {},
   "outputs": [],
   "source": [
    "# 2. Declare a function named user_id_gen_by_user. It doesn’t take any parameters but it takes two inputs using input(). One of the inputs is the number of characters and the second input is the number of IDs which are supposed to be generated.\n",
    "   \n",
    "\n",
    "import random\n",
    "import string\n",
    "\n",
    "def generate_random_id(num_characters):\n",
    "\n",
    "    # Generate a random ID with the specified number of characters\n",
    "\n",
    "    random_id = ''.join(random.choices(string.ascii_letters + string.digits, k=num_characters))\n",
    "    return random_id\n",
    "\n",
    "def RandomId():\n",
    "\n",
    "    # Get user input for the number of characters and number of IDs\n",
    "\n",
    "    num_characters = int(input(\"Enter the number of characters for each ID: \"))\n",
    "    num_ids = int(input(\"Enter the number of IDs to generate: \"))\n",
    "\n",
    "    # Generate and print the requested number of random IDs\n",
    "    \n",
    "    for _ in range(num_ids):\n",
    "        random_id = generate_random_id(num_characters)\n",
    "        print(\"Random ID:\", random_id)\n",
    "\n",
    "# Example usage\n",
    "RandomId()\n"
   ]
  },
  {
   "cell_type": "code",
   "execution_count": null,
   "metadata": {},
   "outputs": [],
   "source": [
    "import random\n",
    "\n",
    "def generat5ngColor():\n",
    "    # Generate random values for Red, Green, and Blue components\n",
    "    red = random.randint(0, 255)\n",
    "    green = random.randint(0, 255)\n",
    "    blue = random.randint(0, 255)\n",
    "\n",
    "    # Return the RGB color as a tuple\n",
    "    return red, green, blue\n",
    "\n",
    "# Example usage\n",
    "rgb_color = generat5ngColor()\n",
    "print(\"Random RGB Color:\", rgb_color)\n"
   ]
  },
  {
   "cell_type": "code",
   "execution_count": null,
   "metadata": {},
   "outputs": [],
   "source": [
    "# Write a function list_of_hexa_colors which returns any number of hexadecimal colors in an array (six hexadecimal numbers written after #. Hexadecimal numeral system is made out of 16 symbols, 0-9 and first 6 letters of the alphabet, a-f. Check the task 6 for output examples).\n",
    "import random\n",
    "\n",
    "def hexaColors(num_colors):\n",
    "    # Generate a list of random hexadecimal colors\n",
    "    colors = ['#' + ''.join(random.choices('0123456789ABCDEF', k=6)) for _ in range(num_colors)]\n",
    "    return colors\n",
    "\n",
    "# Example usage\n",
    "num_colors = 5  # You can specify any desired number of colors\n",
    "hex_colors = hexaColors(num_colors)\n",
    "print(\"List of Hexadecimal Colors:\", hex_colors)\n"
   ]
  },
  {
   "cell_type": "code",
   "execution_count": null,
   "metadata": {},
   "outputs": [],
   "source": [
    "# Write a function list_of_rgb_colors which returns any number of RGB colors in an array.\n",
    "import random\n",
    "\n",
    "def Rgbcolors(num_colors):\n",
    "    colors = []\n",
    "    for _ in range(num_colors):\n",
    "        # Generate random values for red, green, and blue components\n",
    "        red = random.randint(0, 255)\n",
    "        green = random.randint(0, 255)\n",
    "        blue = random.randint(0, 255)\n",
    "\n",
    "        # Append the RGB tuple to the colors array\n",
    "        colors.append((red, green, blue))\n",
    "\n",
    "    return colors\n",
    "\n",
    "# Example usage:\n",
    "num_colors = 5\n",
    "random_colors = Rgbcolors(num_colors)\n",
    "print(random_colors)"
   ]
  },
  {
   "cell_type": "code",
   "execution_count": null,
   "metadata": {},
   "outputs": [],
   "source": [
    "# Write a function generate_colors which can generate any number of hexa or rgb colors.\n",
    "import random\n",
    "\n",
    "def generate_colors(num_colors, color_format=\"hex\"):\n",
    "    colors = []\n",
    "\n",
    "    def generate_hex_color():\n",
    "        return \"#{:06x}\".format(random.randint(0, 0xFFFFFF))\n",
    "\n",
    "    def generate_rgb_color():\n",
    "        red = random.randint(0, 255)\n",
    "        green = random.randint(0, 255)\n",
    "        blue = random.randint(0, 255)\n",
    "        return red, green, blue\n",
    "\n",
    "    # Choose the appropriate color generation function based on the format\n",
    "    generate_color_func = generate_hex_color if color_format.lower() == \"hex\" else generate_rgb_color\n",
    "\n",
    "    # Generate the specified number of colors\n",
    "    for _ in range(num_colors):\n",
    "        colors.append(generate_color_func())\n",
    "\n",
    "    return colors\n",
    "\n",
    "# Example usage:\n",
    "num_colors = 5\n",
    "hex_colors = generate_colors(num_colors, color_format=\"hex\")\n",
    "rgb_colors = generate_colors(num_colors, color_format=\"rgb\")\n",
    "\n",
    "print(\"Hex Colors:\", hex_colors)\n",
    "print(\"RGB Colors:\", rgb_colors)\n"
   ]
  }
 ],
 "metadata": {
  "language_info": {
   "name": "python"
  }
 },
 "nbformat": 4,
 "nbformat_minor": 2
}
