{
 "cells": [
  {
   "cell_type": "markdown",
   "metadata": {},
   "source": [
    "\n",
    "\n",
    "\n",
    "\n",
    "\n",
    "  00000000000vel 2\n",
    "    \n",
    "1.  \n",
    "\n",
    "   ```sh\n",
    "   The sum of all numbers is 5050.\n",
    "   ```\n",
    "\n",
    "1. Use for loop to iterate from 0 to 100 and print the sum of all evens and the sum of all odds.\n",
    "\n",
    "    ```sh\n",
    "    The sum of all evens is 2550. And the sum of all odds is 2500."
   ]
  },
  {
   "cell_type": "code",
   "execution_count": null,
   "metadata": {},
   "outputs": [],
   "source": [
    "ex = 3 + 6\n",
    "print(ex)\n"
   ]
  },
  {
   "cell_type": "markdown",
   "metadata": {},
   "source": [
    "\n",
    "\n",
    "  \n",
    "\n",
    "\n",
    "\n",
    "   \n",
    "### Exercises: Level 2\n",
    "    \n",
    "1.  Use for loop to iterate from 0 to 100 and print the sum of all numbers.\n",
    "\n",
    "   ```sh\n",
    "   The sum of all numbers is 5050.\n",
    "   ```\n",
    "\n",
    "1. \n",
    "\n",
    "    ```sh\n",
    "    The sum of all evens is 2550. And the sum of all odds is 2500.\n",
    "    ```\n"
   ]
  },
  {
   "cell_type": "code",
   "execution_count": null,
   "metadata": {},
   "outputs": [],
   "source": [
    "#1. Iterate 0 to 10 using for loop, do the same using while loop.\n",
    "# Using a for loop\n",
    "for i in range(11):\n",
    "    print(i)\n",
    "\n",
    "# Using a while loop\n",
    "counter = 0\n",
    "while counter <= 10:\n",
    "    print(counter)\n",
    "    counter += 1\n"
   ]
  },
  {
   "cell_type": "code",
   "execution_count": null,
   "metadata": {},
   "outputs": [],
   "source": [
    "# 2. Iterate 10 to 0 using for loop, do the same using while loop.\n",
    "counter = 10\n",
    "while counter >= 0:\n",
    "    print(counter)\n",
    "    counter = counter - 1\n",
    "\n",
    "    # Using a for loop\n",
    "for i in range(10, -1, -1):\n",
    "    print(i)\n",
    "\n"
   ]
  },
  {
   "cell_type": "code",
   "execution_count": null,
   "metadata": {},
   "outputs": [],
   "source": [
    "# Write a loop that makes seven calls to print(), so we get on the output in triangle shape:\n",
    "for i in range(1, 8):\n",
    "    print('# ' * i)\n"
   ]
  },
  {
   "cell_type": "code",
   "execution_count": null,
   "metadata": {},
   "outputs": [],
   "source": [
    "# Use nested loops to create the the rectangle shape \n",
    "\n",
    "for i in range(5):  # Outer loop for rows\n",
    "    for j in range(7):  # Inner loop for columns\n",
    "        print('# ', end='')\n",
    "    print()  # Move to the next line after each row\n"
   ]
  },
  {
   "cell_type": "markdown",
   "metadata": {},
   "source": [
    "5 Print the following pattern:\n",
    "   ```sh\n",
    "   0 x 0 = 0\n",
    "   1 x 1 = 1\n",
    "   2 x 2 = 4\n",
    "   3 x 3 = 9\n",
    "   4 x 4 = 16\n",
    "   5 x 5 = 25\n",
    "   6 x 6 = 36\n",
    "   7 x 7 = 49\n",
    "   8 x 8 = 64\n",
    "   9 x 9 = 81\n",
    "   10 x 10 = 100"
   ]
  },
  {
   "cell_type": "code",
   "execution_count": null,
   "metadata": {},
   "outputs": [],
   "source": [
    "\n",
    "for i in range(11):\n",
    "    result = i * i\n",
    "    print(f\"{i} x {i} = {result}\")\n",
    "\n"
   ]
  },
  {
   "cell_type": "code",
   "execution_count": null,
   "metadata": {},
   "outputs": [],
   "source": [
    "# 6. Iterate through the list, ['Python', 'Numpy','Pandas','Django', 'Flask'] using a for loop and print out the items.\n",
    "\n",
    "Library = ['Python', 'Numpy', 'Pandas', 'Django', 'Flask']\n",
    "\n",
    "for item in Library:\n",
    "    print(item)\n"
   ]
  },
  {
   "cell_type": "code",
   "execution_count": null,
   "metadata": {},
   "outputs": [],
   "source": [
    "#7. Use for loop to iterate from 0 to 100 and print only even numbers\n",
    "#8. Use for loop to iterate from 0 to 100 and print only odd numbers\n",
    "# Using a for loop to iterate from 0 to 100 and print only even numbers\n",
    "for num in range(0, 101, 2):\n",
    "    print(num)\n",
    "\n",
    "# Using a for loop to iterate from 0 to 100 and print only odd numbers\n",
    "for num in range(1, 101, 2):\n",
    "    print(num)\n"
   ]
  },
  {
   "cell_type": "code",
   "execution_count": null,
   "metadata": {},
   "outputs": [],
   "source": [
    "# Use for loop to iterate from 0 to 100 and print the sum of all numbers.\n",
    "for n in range (99):\n",
    "    counter = 0\n",
    "    m = counter + n\n",
    "print(m)"
   ]
  },
  {
   "cell_type": "code",
   "execution_count": null,
   "metadata": {},
   "outputs": [],
   "source": [
    "#Use for loop to iterate from 0 to 100 and print the sum of all evens and the sum of all odds.\n",
    "# Initialize variables for the sum of even and odd numbers\n",
    "Teven = 0\n",
    "Todd = 0\n",
    "\n",
    "# Using a for loop to iterate from 0 to 100\n",
    "for num in range(101):\n",
    "    if num % 2 == 0:  # Check if the number is even\n",
    "        Teven += num\n",
    "    else:\n",
    "        Todd += num\n",
    "\n",
    "# Print the sum of even and odd numbers\n",
    "print(f\"Sum of even numbers: {Teven}\")\n",
    "print(f\"Sum of odd numbers: {Todd}\")\n"
   ]
  }
 ],
 "metadata": {
  "kernelspec": {
   "display_name": "base",
   "language": "python",
   "name": "python3"
  },
  "language_info": {
   "name": "python",
   "version": "3.9.12"
  },
  "vscode": {
   "interpreter": {
    "hash": "99939eb298393b3eeace174449b21294aa8744367fd7853b2deb8073e3b1213a"
   }
  }
 },
 "nbformat": 4,
 "nbformat_minor": 2
}
