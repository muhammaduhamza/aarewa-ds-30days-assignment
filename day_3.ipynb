{
 "cells": [
  {
   "cell_type": "code",
   "execution_count": 2,
   "metadata": {},
   "outputs": [
    {
     "name": "stdout",
     "output_type": "stream",
     "text": [
      "the area of triangle that has height 3.0 and base 3.0 is 4.5\n"
     ]
    }
   ],
   "source": [
    "\n",
    "height= float(input('enter the height of a triangle'))\n",
    "base = float(input('enter the base of triangle')) \n",
    "areaoftriangle= 0.5*height*base\n",
    "print(f'the area of triangle that has height {height} and base {base} is {areaoftriangle}')\n"
   ]
  },
  {
   "attachments": {},
   "cell_type": "markdown",
   "metadata": {},
   "source": [
    "the third task of a python perimater of a triiangle"
   ]
  },
  {
   "cell_type": "code",
   "execution_count": 4,
   "metadata": {},
   "outputs": [
    {
     "name": "stdout",
     "output_type": "stream",
     "text": [
      "the perimeter of a triangle is 9\n"
     ]
    }
   ],
   "source": [
    "SideA = int(input('enter the side of first angle'))\n",
    "SideB = int(input('enter the side of second angle'))\n",
    "SideC = int(input('enter the side of third angle')) \n",
    "perimeter = SideA + SideB + SideC\n",
    "print(f'the perimeter of a triangle is {perimeter}') \n",
    "\n"
   ]
  },
  {
   "attachments": {},
   "cell_type": "markdown",
   "metadata": {},
   "source": [
    "Calculating the area and perimeter of a rectangle  "
   ]
  },
  {
   "cell_type": "code",
   "execution_count": 7,
   "metadata": {},
   "outputs": [
    {
     "name": "stdout",
     "output_type": "stream",
     "text": [
      " the area of rectangle that has 6.0 and width 8.0 is 48.0 while the perimeter is 28.0 \n"
     ]
    }
   ],
   "source": [
    "LengthofRectangle = float(input('enter the length of a rectangel'))\n",
    "WidthofRectangle = float(input('enter the with of a rectangle'))\n",
    "Area = LengthofRectangle * WidthofRectangle\n",
    "perimeter= 2*(LengthofRectangle + WidthofRectangle)\n",
    "print(f' the area of rectangle that has {LengthofRectangle} and width {WidthofRectangle} is {Area} while the perimeter is {perimeter} ') \n"
   ]
  },
  {
   "attachments": {},
   "cell_type": "markdown",
   "metadata": {},
   "source": [
    "Get the radiius of a circle using prompt for making area and circumperence p= 3.14"
   ]
  },
  {
   "cell_type": "code",
   "execution_count": 10,
   "metadata": {},
   "outputs": [
    {
     "name": "stdout",
     "output_type": "stream",
     "text": [
      "the area of a circle is 254.34 and circumference is 56.52\n"
     ]
    }
   ],
   "source": [
    "R= float(input('enter the radius of a circle'))\n",
    "P= 3.14\n",
    "AreaofCircle= P*(R*R)\n",
    "Circumference= 2*R* P\n",
    "print(f'the area of a circle is {AreaofCircle} and circumference is {Circumference}')"
   ]
  },
  {
   "attachments": {},
   "cell_type": "markdown",
   "metadata": {},
   "source": [
    "8 calculate the slop, X-intercept, Y-intercept, of y=2x-2 "
   ]
  },
  {
   "cell_type": "code",
   "execution_count": 42,
   "metadata": {},
   "outputs": [
    {
     "name": "stdout",
     "output_type": "stream",
     "text": [
      "2.0\n"
     ]
    }
   ],
   "source": [
    "def getSlope(y1, y2, x1, x2):\n",
    "    slope = (y2 - y1)/(x2 - x1)\n",
    "    return slope\n",
    "\n",
    "def getX_Intercept(y1, y2, x1, x2):\n",
    "    slope = (y2 - y1)/(x2 - x1)\n",
    "    return slope\n",
    "\n",
    "def getY_Intercept(y1, y2, x1, x2):\n",
    "    slope = (y2 - y1)/(x2 - x1)\n",
    "    return slope\n",
    "\n",
    "\n",
    "print(getSlope(-2, 0, 0, 1))"
   ]
  },
  {
   "cell_type": "code",
   "execution_count": 43,
   "metadata": {},
   "outputs": [
    {
     "ename": "ZeroDivisionError",
     "evalue": "division by zero",
     "output_type": "error",
     "traceback": [
      "\u001b[1;31m---------------------------------------------------------------------------\u001b[0m",
      "\u001b[1;31mZeroDivisionError\u001b[0m                         Traceback (most recent call last)",
      "\u001b[1;32mc:\\Users\\Muhammadu H Yalwa\\Desktop\\30-Days-of-Python\\03_Day_Operators\\day_3.ipynb Cell 10\u001b[0m in \u001b[0;36m<cell line: 13>\u001b[1;34m()\u001b[0m\n\u001b[0;32m     <a href='vscode-notebook-cell:/c%3A/Users/Muhammadu%20H%20Yalwa/Desktop/30-Days-of-Python/03_Day_Operators/day_3.ipynb#X61sZmlsZQ%3D%3D?line=9'>10</a>\u001b[0m     slope \u001b[39m=\u001b[39m (y2 \u001b[39m-\u001b[39m y1)\u001b[39m/\u001b[39m(x2 \u001b[39m-\u001b[39m x1)\n\u001b[0;32m     <a href='vscode-notebook-cell:/c%3A/Users/Muhammadu%20H%20Yalwa/Desktop/30-Days-of-Python/03_Day_Operators/day_3.ipynb#X61sZmlsZQ%3D%3D?line=10'>11</a>\u001b[0m     \u001b[39mreturn\u001b[39;00m slope\n\u001b[1;32m---> <a href='vscode-notebook-cell:/c%3A/Users/Muhammadu%20H%20Yalwa/Desktop/30-Days-of-Python/03_Day_Operators/day_3.ipynb#X61sZmlsZQ%3D%3D?line=12'>13</a>\u001b[0m \u001b[39mprint\u001b[39m(getSlope(\u001b[39m-\u001b[39;49m\u001b[39m2\u001b[39;49m, \u001b[39m0\u001b[39;49m, \u001b[39m1\u001b[39;49m, \u001b[39m1\u001b[39;49m))\n",
      "\u001b[1;32mc:\\Users\\Muhammadu H Yalwa\\Desktop\\30-Days-of-Python\\03_Day_Operators\\day_3.ipynb Cell 10\u001b[0m in \u001b[0;36mgetSlope\u001b[1;34m(y1, y2, x1, x2)\u001b[0m\n\u001b[0;32m      <a href='vscode-notebook-cell:/c%3A/Users/Muhammadu%20H%20Yalwa/Desktop/30-Days-of-Python/03_Day_Operators/day_3.ipynb#X61sZmlsZQ%3D%3D?line=0'>1</a>\u001b[0m \u001b[39mdef\u001b[39;00m \u001b[39mgetSlope\u001b[39m(y1, y2, x1, x2):\n\u001b[1;32m----> <a href='vscode-notebook-cell:/c%3A/Users/Muhammadu%20H%20Yalwa/Desktop/30-Days-of-Python/03_Day_Operators/day_3.ipynb#X61sZmlsZQ%3D%3D?line=1'>2</a>\u001b[0m     slope \u001b[39m=\u001b[39m (y2 \u001b[39m-\u001b[39;49m y1)\u001b[39m/\u001b[39;49m(x2 \u001b[39m-\u001b[39;49m x1)\n\u001b[0;32m      <a href='vscode-notebook-cell:/c%3A/Users/Muhammadu%20H%20Yalwa/Desktop/30-Days-of-Python/03_Day_Operators/day_3.ipynb#X61sZmlsZQ%3D%3D?line=2'>3</a>\u001b[0m     \u001b[39mreturn\u001b[39;00m slope\n",
      "\u001b[1;31mZeroDivisionError\u001b[0m: division by zero"
     ]
    }
   ],
   "source": [
    "def getSlope(y1, y2, x1, x2):\n",
    "    slope = (y2 - y1)/(x2 - x1)\n",
    "    return slope\n",
    "\n",
    "def getX_Intercept(y1, y2, x1, x2):\n",
    "    slope = (y2 - y1)/(x2 - x1)\n",
    "    return slope\n",
    "\n",
    "def getY_Intercept(y1, y2, x1, x2):\n",
    "    y_i =   - x1\n",
    "    return slope\n",
    "\n",
    "print(getSlope(-2, 0, 1, 1))"
   ]
  },
  {
   "cell_type": "code",
   "execution_count": null,
   "metadata": {},
   "outputs": [],
   "source": [
    "y=2x-2\n",
    "\n",
    "\n",
    "\n",
    "\n",
    "m= 2\n",
    "b= -2\n",
    "y= m*x+b\n",
    "y= 2*x-2\n"
   ]
  },
  {
   "attachments": {},
   "cell_type": "markdown",
   "metadata": {},
   "source": [
    "9-find the slope (y2-y1/x2-x1) find the slope and Euclidean distance betwwen ponts(2,2)and ponts(6,10)\n",
    "10 comparison between them\n"
   ]
  },
  {
   "cell_type": "code",
   "execution_count": 11,
   "metadata": {},
   "outputs": [
    {
     "name": "stdout",
     "output_type": "stream",
     "text": [
      "7.666666666666666\n",
      "8.94427190999916\n",
      "comparisim between slope 8 and 9 the differences is {differences}\n"
     ]
    }
   ],
   "source": [
    "import math\n",
    "x1=2\n",
    "x2=6\n",
    "y1= 2\n",
    "y2=10\n",
    "slope = y2-y1/x2-x1\n",
    "\n",
    "d= (x2-x1)**2 +(y2-y1)**2\n",
    "EuclideanDistance = math.sqrt(d)\n",
    "print(slope)\n",
    "print(EuclideanDistance)\n",
    "differences = slope- EuclideanDistance \n",
    "print('comparisim between slope 8 and 9 the differences is {differences}')\n"
   ]
  },
  {
   "cell_type": "code",
   "execution_count": 13,
   "metadata": {},
   "outputs": [
    {
     "name": "stdout",
     "output_type": "stream",
     "text": [
      "3.690809680968.3f\n"
     ]
    }
   ],
   "source": [
    "a = 3.690809680968\n",
    "print(f'{a}.3f')"
   ]
  },
  {
   "cell_type": "markdown",
   "metadata": {},
   "source": []
  },
  {
   "attachments": {},
   "cell_type": "markdown",
   "metadata": {},
   "source": [
    "y=x**2 +6x+9\n",
    "the value of x= 1 to 3"
   ]
  },
  {
   "cell_type": "code",
   "execution_count": 16,
   "metadata": {},
   "outputs": [
    {
     "name": "stdout",
     "output_type": "stream",
     "text": [
      "y has reach the maximum value as 0\n",
      "25\n"
     ]
    }
   ],
   "source": [
    "for x in range(-3, 3):\n",
    "    y = x**2 + 6*x +9 \n",
    "    if y == 0:\n",
    "            print(f'y has reach the maximum value as {y}')    \n",
    "print(y)"
   ]
  },
  {
   "attachments": {},
   "cell_type": "markdown",
   "metadata": {},
   "source": [
    "12 lenght of python and dragon, comparison  "
   ]
  },
  {
   "cell_type": "code",
   "execution_count": 17,
   "metadata": {},
   "outputs": [
    {
     "data": {
      "text/plain": [
       "True"
      ]
     },
     "execution_count": 17,
     "metadata": {},
     "output_type": "execute_result"
    }
   ],
   "source": [
    "Len1 = len('python')\n",
    "Len2 = len('dragon')\n",
    "Len1 == Len2\n"
   ]
  },
  {
   "attachments": {},
   "cell_type": "markdown",
   "metadata": {},
   "source": [
    "13 do 'on' appear in this words:  python and Dragon"
   ]
  },
  {
   "cell_type": "code",
   "execution_count": 18,
   "metadata": {},
   "outputs": [
    {
     "name": "stdout",
     "output_type": "stream",
     "text": [
      "on appear in {Len1} and {Len2}\n"
     ]
    }
   ],
   "source": [
    "Len1 = 'python'\n",
    "Len2 = 'dragon'\n",
    "\n",
    "if 'on' in Len1 and 'on' in Len2:\n",
    "    print('on appear in {Len1} and {Len2}')\n",
    "else: \n",
    "     print('on do not appear in both {Len1}and {Len2} respectively')\n"
   ]
  },
  {
   "attachments": {},
   "cell_type": "markdown",
   "metadata": {},
   "source": [
    "14-'I hope this course is not full of jargon'. use in operator to check if jargon is present in the sentence. "
   ]
  },
  {
   "cell_type": "code",
   "execution_count": 20,
   "metadata": {},
   "outputs": [
    {
     "name": "stdout",
     "output_type": "stream",
     "text": [
      "jargon is present\n"
     ]
    }
   ],
   "source": [
    "def jargon():\n",
    "    word_list = 'I hope this course is not full of jargon'\n",
    "    word_list = word_list.split()\n",
    "    if 'jargon' in word_list:\n",
    "        print('jargon is present')\n",
    "    else:\n",
    "        print('jargon is not present')\n",
    "jargon()\n"
   ]
  },
  {
   "attachments": {},
   "cell_type": "markdown",
   "metadata": {},
   "source": [
    "15 and 14"
   ]
  },
  {
   "attachments": {},
   "cell_type": "markdown",
   "metadata": {},
   "source": [
    "Len1 = 'python'\n",
    "Len2 = 'dragon'\n",
    "\n",
    "if 'on' in Len1 and 'on' in Len2:\n",
    "    print('on appear in {Len1} and {Len2}')\n",
    "else: \n",
    "     print('on do not appear in both {Len1}and {Len2} respectively')"
   ]
  },
  {
   "attachments": {},
   "cell_type": "markdown",
   "metadata": {},
   "source": [
    "16 find the length of python and convert the value to float and string"
   ]
  },
  {
   "cell_type": "code",
   "execution_count": 24,
   "metadata": {},
   "outputs": [
    {
     "name": "stdout",
     "output_type": "stream",
     "text": [
      "the length of python in float6.0 and in string is 6.0\n"
     ]
    }
   ],
   "source": [
    "x  = len('python')\n",
    "x1 = float(x1)\n",
    "x3 = str(x1)\n",
    "\n",
    "print(f'the length of python in float{x1} and in string is {x3}')"
   ]
  },
  {
   "attachments": {},
   "cell_type": "markdown",
   "metadata": {},
   "source": [
    "17 How can you identify the number is even using python?"
   ]
  },
  {
   "cell_type": "code",
   "execution_count": 27,
   "metadata": {},
   "outputs": [
    {
     "name": "stdout",
     "output_type": "stream",
     "text": [
      "the number is not even\n"
     ]
    }
   ],
   "source": [
    "Number = int(input('enter the number for verification is even or not'))\n",
    "if (Number%2 == 0):\n",
    "    print('the number is even')\n",
    "else:\n",
    "    print('the number is not even')"
   ]
  },
  {
   "attachments": {},
   "cell_type": "markdown",
   "metadata": {},
   "source": [
    "18 check if floor division 7 by 3 = converted to integer is = 2.7 \n"
   ]
  },
  {
   "cell_type": "code",
   "execution_count": 31,
   "metadata": {},
   "outputs": [
    {
     "name": "stdout",
     "output_type": "stream",
     "text": [
      "the value after converted to integer is not 2.7\n"
     ]
    }
   ],
   "source": [
    "x = 7//3 \n",
    "c = int(x)\n",
    "if x ==  2.7 :\n",
    "    print('the value after converted to integer is 2.7')\n",
    "\n",
    "else:\n",
    "    print('the value after converted to integer is not 2.7')\n",
    "\n"
   ]
  },
  {
   "attachments": {},
   "cell_type": "markdown",
   "metadata": {},
   "source": [
    "19 check if 10 = 10 booleant "
   ]
  },
  {
   "cell_type": "code",
   "execution_count": 32,
   "metadata": {},
   "outputs": [
    {
     "name": "stdout",
     "output_type": "stream",
     "text": [
      "True\n"
     ]
    }
   ],
   "source": [
    "print(10 == 10)\n"
   ]
  },
  {
   "attachments": {},
   "cell_type": "markdown",
   "metadata": {},
   "source": [
    "20  check if int(9.8) = 10"
   ]
  },
  {
   "cell_type": "code",
   "execution_count": 33,
   "metadata": {},
   "outputs": [
    {
     "data": {
      "text/plain": [
       "False"
      ]
     },
     "execution_count": 33,
     "metadata": {},
     "output_type": "execute_result"
    }
   ],
   "source": [
    "x1 = int(9.8)\n",
    "x = 10\n",
    "x1 == x"
   ]
  },
  {
   "cell_type": "markdown",
   "metadata": {},
   "source": []
  },
  {
   "attachments": {},
   "cell_type": "markdown",
   "metadata": {},
   "source": [
    "21 Write a prompt script that receive hours and hours rate pay to calculate payment "
   ]
  },
  {
   "cell_type": "code",
   "execution_count": 36,
   "metadata": {},
   "outputs": [
    {
     "name": "stdout",
     "output_type": "stream",
     "text": [
      "Your weekly earning is 8100.0\n"
     ]
    }
   ],
   "source": [
    "HoursDone = int(input('enter the hours worked' ))\n",
    "HoursRate = float(input('enter the hour rate payment' ))\n",
    "Payment = HoursDone * HoursRate\n",
    "print(f'Your weekly earning is {Payment}') "
   ]
  },
  {
   "attachments": {},
   "cell_type": "markdown",
   "metadata": {},
   "source": [
    "22  calculate the seconds of an age provided"
   ]
  },
  {
   "cell_type": "code",
   "execution_count": 39,
   "metadata": {},
   "outputs": [
    {
     "name": "stdout",
     "output_type": "stream",
     "text": [
      "You have lived for 9331200 seconds\n"
     ]
    }
   ],
   "source": [
    "age = int(input('enter the hours worked' ))\n",
    "\n",
    "secondLived = age * 12 *24*60*60\n",
    "\n",
    "print(f'You have lived for {secondLived} seconds') "
   ]
  },
  {
   "attachments": {},
   "cell_type": "markdown",
   "metadata": {},
   "source": [
    "23. Write a Python script that displays the following table\n",
    "\n",
    "```py\n",
    "1 1 1 1 1\n",
    "2 1 2 4 8\n",
    "3 1 3 9 27\n",
    "4 1 4 16 64\n",
    "5 1 5 25 125"
   ]
  },
  {
   "cell_type": "code",
   "execution_count": 41,
   "metadata": {},
   "outputs": [
    {
     "name": "stdout",
     "output_type": "stream",
     "text": [
      "1 1 1 1 1 \n",
      "2 1 2 4 8 \n",
      "3 1 3 9 27 \n",
      "4 1 4 16 64 \n",
      "5 1 5 25 125 \n"
     ]
    }
   ],
   "source": [
    "for i in range(1,6):\n",
    "    print(i, end= ' ')\n",
    "    print(i**0, end= ' ')\n",
    "    print(i**1, end= ' ')\n",
    "    print(i**2, end= ' ')\n",
    "    print(i**3, end= ' ')\n",
    "    print()"
   ]
  },
  {
   "attachments": {},
   "cell_type": "markdown",
   "metadata": {},
   "source": [
    "print(1 1 1 1 1 )\n",
    "print ()"
   ]
  },
  {
   "cell_type": "code",
   "execution_count": null,
   "metadata": {},
   "outputs": [],
   "source": []
  }
 ],
 "metadata": {
  "kernelspec": {
   "display_name": "base",
   "language": "python",
   "name": "python3"
  },
  "language_info": {
   "codemirror_mode": {
    "name": "ipython",
    "version": 3
   },
   "file_extension": ".py",
   "mimetype": "text/x-python",
   "name": "python",
   "nbconvert_exporter": "python",
   "pygments_lexer": "ipython3",
   "version": "3.9.12"
  },
  "orig_nbformat": 4
 },
 "nbformat": 4,
 "nbformat_minor": 2
}
