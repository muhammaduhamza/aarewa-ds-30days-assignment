{
 "cells": [
  {
   "cell_type": "markdown",
   "metadata": {},
   "source": []
  },
  {
   "cell_type": "code",
   "execution_count": null,
   "metadata": {},
   "outputs": [],
   "source": [
    "Dog = {}\n",
    "Dog = {'name:kare', 'color:brown', 'breed:tololo',  'legs : 4', 'age : 4'}\n",
    "Student = {'FirstName: Abba', 'LastName: Sani', 'Gender: Male', 'MariatalStatus: true','Skills:[teacher,famer,]', 'country: Nigeria', 'city:kano','address:gorondutse'}\n",
    "len(Student)\n",
    "print(Student['Skills'])\n",
    "x = (Student['Skills'])\n",
    "type(x)\n",
    "xi = ['Driver']\n",
    "Skills = x + xi\n",
    "\n",
    "Keys = Student.keys[]\n",
    "# to see the valiues of a list\n",
    "Keys = Student.keys[]\n",
    "#9. Change the dictionary to a list of tuples using _items()_ method\n",
    "\n",
    "# 10. Delete one of the items in the dictionary del dictionary_name[key]\n",
    "del Student['FirstName'] \n",
    "\n",
    "#  Delete one of the dictionaries\n",
    "del Student[]\n"
   ]
  }
 ],
 "metadata": {
  "kernelspec": {
   "display_name": "base",
   "language": "python",
   "name": "python3"
  },
  "language_info": {
   "name": "python",
   "version": "3.9.12"
  },
  "vscode": {
   "interpreter": {
    "hash": "99939eb298393b3eeace174449b21294aa8744367fd7853b2deb8073e3b1213a"
   }
  }
 },
 "nbformat": 4,
 "nbformat_minor": 2
}
