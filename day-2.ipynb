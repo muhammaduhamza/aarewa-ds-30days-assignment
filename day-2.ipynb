{
 "cells": [
  {
   "cell_type": "code",
   "execution_count": null,
   "metadata": {},
   "outputs": [],
   "source": [
    "#'Day 2: 30 Days of python programming'"
   ]
  },
  {
   "cell_type": "markdown",
   "metadata": {},
   "source": [
    "Declare a first name variable and assign a value to it"
   ]
  },
  {
   "cell_type": "code",
   "execution_count": null,
   "metadata": {},
   "outputs": [],
   "source": [
    "FirstName = 'Muhammadu'"
   ]
  },
  {
   "cell_type": "markdown",
   "metadata": {},
   "source": [
    " Declare a last name variable and assign a value to it"
   ]
  },
  {
   "cell_type": "markdown",
   "metadata": {},
   "source": [
    "5. Declare a full name variable and assign a value to it\n",
    "6. Declare a country variable and assign a value to it\n",
    "7. Declare a city variable and assign a value to it\n",
    "8. Declare an age variable and assign a value to it\n"
   ]
  },
  {
   "cell_type": "code",
   "execution_count": null,
   "metadata": {},
   "outputs": [],
   "source": [
    "LastName = 'HamzaYalwa'"
   ]
  },
  {
   "cell_type": "code",
   "execution_count": null,
   "metadata": {},
   "outputs": [],
   "source": [
    "FullName ='Muhammadu Hamza Yalwa'"
   ]
  },
  {
   "cell_type": "code",
   "execution_count": null,
   "metadata": {},
   "outputs": [],
   "source": [
    "City ='Kano'"
   ]
  },
  {
   "cell_type": "code",
   "execution_count": null,
   "metadata": {},
   "outputs": [],
   "source": [
    "age = 42"
   ]
  },
  {
   "cell_type": "markdown",
   "metadata": {},
   "source": [
    "9. Declare a year variable and assign a value to it\n",
    "10. Declare a variable is_married and assign a value to it\n",
    "11. Declare a variable is_true and assign a value to it\n",
    "12. Declare a variable is_light_on and assign a value to it\n",
    "13. Declare multiple variable on one line"
   ]
  },
  {
   "cell_type": "code",
   "execution_count": null,
   "metadata": {},
   "outputs": [],
   "source": [
    "\n",
    "year ='1995'\n",
    "married ='true '\n",
    "true = 5\n",
    "ight_on = 'true'\n",
    "q =7 , g= 6, h=9\n",
    "\n"
   ]
  },
  {
   "cell_type": "code",
   "execution_count": null,
   "metadata": {},
   "outputs": [],
   "source": [
    "FirstName = 'Muhammadu'\n",
    "\n",
    "print(type(FirstName))"
   ]
  },
  {
   "cell_type": "code",
   "execution_count": null,
   "metadata": {},
   "outputs": [],
   "source": [
    "year ='1995'\n",
    "print(type(year))"
   ]
  },
  {
   "cell_type": "code",
   "execution_count": null,
   "metadata": {},
   "outputs": [],
   "source": [
    "LastName = 'HamzaYalwa'\n",
    "print(type(LastName))\n"
   ]
  },
  {
   "cell_type": "code",
   "execution_count": null,
   "metadata": {},
   "outputs": [],
   "source": [
    "FullName ='Muhammadu Hamza Yalwa'\n",
    "print(type(FullName))"
   ]
  },
  {
   "cell_type": "code",
   "execution_count": null,
   "metadata": {},
   "outputs": [],
   "source": [
    "City ='Kano'\n",
    "print(type(City))"
   ]
  },
  {
   "cell_type": "code",
   "execution_count": null,
   "metadata": {},
   "outputs": [],
   "source": [
    "age = 42\n",
    "print(type(age))"
   ]
  },
  {
   "cell_type": "code",
   "execution_count": null,
   "metadata": {},
   "outputs": [],
   "source": [
    "FirstName = 'Muhammadu'\n",
    "FullName ='Muhammadu Hamza Yalwa'\n",
    "a = len(FirstName)\n",
    "b = len(FullName)\n",
    "print(a)\n",
    "print(b)\n",
    "a == b"
   ]
  },
  {
   "cell_type": "markdown",
   "metadata": {},
   "source": [
    "1. Declare 5 as num_one and 4 as num_two\n",
    "    1. Add num_one and num_two and assign the value to a variable total\n",
    "    2. Subtract num_two from num_one and assign the value to a variable diff\n",
    "    3. Multiply num_two and num_one and assign the value to a variable product\n",
    "    4. Divide num_one by num_two and assign the value to a variable division\n",
    "    5. Use modulus division to find num_two divided by num_one and assign the value to a variable remainder\n",
    "    6. Calculate num_one to the power of num_two and assign the value to a variable exp\n",
    "    7. Find floor division of num_one by num_two and assign the value to a variable floor_division"
   ]
  },
  {
   "cell_type": "code",
   "execution_count": null,
   "metadata": {},
   "outputs": [],
   "source": [
    "NumONE = 19\n",
    "NumTwo= 79\n",
    "TOTAL = NumONE + NumTwo\n",
    "Diff= NumTwo - NumONE\n",
    "Product = NumONE * NumTwo\n",
    "Division = NumTwo/NumONE\n",
    "Reminder = NumTwo % NumONE\n",
    "Exponential = NumTwo **NumONE\n",
    "FloorDivision = floor(Division)\n",
    "\n",
    "print(f'NumONE is {NumONE} NumTwo is{NumTwo}, TOTAL is {TOTAL}, Diff is {Diff}, Product is {Product}, Division is {Division}, Reminder is {Reminder},Exponential is {Exponential}, FloorDivision is {FloorDivision}')"
   ]
  },
  {
   "cell_type": "markdown",
   "metadata": {},
   "source": [
    "1. The radius of a circle is 30 meters.\n",
    "    1. Calculate the area of a circle and assign the value to a variable name of _area_of_circle_\n",
    "    2. Calculate the circumference of a circle and assign the value to a variable name of _circum_of_circle_\n",
    "    3. Take radius as user input and calculate the area.\n",
    "1\n"
   ]
  },
  {
   "cell_type": "code",
   "execution_count": null,
   "metadata": {},
   "outputs": [],
   "source": [
    "radius = 30\n",
    "AreaOfCircle = 3.14* radius**2\n",
    "Circumference = 2*3.14*radius\n",
    "#'By taking he radius as user input\n",
    "Radius = int(input('enter the radius od a circle '))\n",
    "AreaOfCircle = 3.14* Radius**2\n",
    "Circumference = 2*3.14*Radius\n"
   ]
  },
  {
   "cell_type": "markdown",
   "metadata": {},
   "source": [
    ". Use the built-in input function to get first name, last name, country and age from a user and store the value to their corresponding variable names\n",
    "1. Run help('keywords') in Python shell or in your file to check for the Python reserved words or keywords"
   ]
  },
  {
   "cell_type": "code",
   "execution_count": null,
   "metadata": {},
   "outputs": [],
   "source": [
    "FName = input(' enter your name')\n",
    "LName = input('Enter your last name')\n",
    "Country = Input('country you are belong')\n",
    "Age     = int(input('enter your age'))\n",
    "\n",
    "\n"
   ]
  }
 ],
 "metadata": {
  "kernelspec": {
   "display_name": "base",
   "language": "python",
   "name": "python3"
  },
  "language_info": {
   "name": "python",
   "version": "3.9.12"
  },
  "vscode": {
   "interpreter": {
    "hash": "99939eb298393b3eeace174449b21294aa8744367fd7853b2deb8073e3b1213a"
   }
  }
 },
 "nbformat": 4,
 "nbformat_minor": 2
}
