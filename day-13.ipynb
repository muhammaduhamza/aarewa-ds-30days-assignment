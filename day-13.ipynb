{
 "cells": [
  {
   "cell_type": "code",
   "execution_count": null,
   "metadata": {},
   "outputs": [],
   "source": [
    "# 1. Filter only negative and zero in the list using list comprehension   numbers = [-4, -3, -2, -1, 0, 2, 4, 6]\n",
    "\n",
    "numbers = [-4, -3, -2, -1, 0, 2, 4, 6]\n",
    "\n",
    "filtered_numbers = [num for num in numbers if num <= 0]\n",
    "\n",
    "print(filtered_numbers)\n"
   ]
  },
  {
   "cell_type": "code",
   "execution_count": null,
   "metadata": {},
   "outputs": [],
   "source": [
    "# 2. Flatten the following list of lists of lists to a one dimensional list :\n",
    "#  list_of_lists =[[[1, 2, 3]], [[4, 5, 6]], [[7, 8, 9]]]\n",
    "\n",
    "\n",
    "list_of_lists = [[[1, 2, 3]], [[4, 5, 6]], [[7, 8, 9]]]\n",
    "\n",
    "flattened_list = [item for sublist in list_of_lists for subsublist in sublist for item in subsublist]\n",
    "\n",
    "print(flattened_list)\n"
   ]
  },
  {
   "cell_type": "code",
   "execution_count": null,
   "metadata": {},
   "outputs": [],
   "source": [
    "Using list comprehension create the following list of tuples:\n",
    "\n",
    "#[(0, 1, 0, 0, 0, 0, 0),\n",
    "#(1, 1, 1, 1, 1, 1, 1),\n",
    "# (2, 1, 2, 4, 8, 16, 32),\n",
    "#(3, 1, 3, 9, 27, 81, 243),\n",
    "#(4, 1, 4, 16, 64, 256, 1024),\n",
    "#(5, 1, 5, 25, 125, 625, 3125),\n",
    "#(6, 1, 6, 36, 216, 1296, 7776),\n",
    "#(7, 1, 7, 49, 343, 2401, 16807),\n",
    "#(8, 1, 8, 64, 512, 4096, 32768),\n",
    "#(9, 1, 9, 81, 729, 6561, 59049),\n",
    "#(10, 1, 10, 100, 1000, 10000, 100000)]\n",
    "\n",
    "AbovePattern = [(i, 1, i, i**2, i**3, i**4, i**5) for i in range(11)]\n",
    "\n",
    "print(AbovePattern)\n"
   ]
  },
  {
   "cell_type": "code",
   "execution_count": null,
   "metadata": {},
   "outputs": [],
   "source": [
    "# Flatten the following list to a new list: -   countries = [[('Finland', 'Helsinki')], [('Sweden', 'Stockholm')], [('Norway', 'Oslo')]]\n",
    "\n",
    "countries = [[('Finland', 'Helsinki')], [('Sweden', 'Stockholm')], [('Norway', 'Oslo')]]\n",
    "\n",
    "flattened_countries = [item for sublist in countries for item in sublist]\n",
    "\n",
    "print(flattened_countries)\n"
   ]
  },
  {
   "cell_type": "code",
   "execution_count": null,
   "metadata": {},
   "outputs": [],
   "source": [
    "# Change the following list to a list of dictionaries:  countries = [[('Finland', 'Helsinki')], [('Sweden', 'Stockholm')], [('Norway', 'Oslo')]\n",
    "\n",
    "\n",
    "countries = [[('Finland', 'Helsinki')], [('Sweden', 'Stockholm')], [('Norway', 'Oslo')]]\n",
    "\n",
    "list_of_dicts = [{country: capital} for sublist in countries for country, capital in sublist]\n",
    "\n",
    "print(list_of_dicts)\n"
   ]
  },
  {
   "cell_type": "code",
   "execution_count": null,
   "metadata": {},
   "outputs": [],
   "source": [
    "# Change the following list of lists to a list of concatenated strings:  names = [[('Asabeneh', 'Yetayeh')], [('David', 'Smith')], [('Donald', 'Trump')], [('Bill', 'Gates')]]\n",
    "\n",
    "names = [[('Asabeneh', 'Yetayeh')], [('David', 'Smith')], [('Donald', 'Trump')], [('Bill', 'Gates')]]\n",
    "\n",
    "list_of_strings = [' '.join(name) for sublist in names for name in sublist]\n",
    "\n",
    "print(list_of_strings)\n"
   ]
  },
  {
   "cell_type": "code",
   "execution_count": null,
   "metadata": {},
   "outputs": [],
   "source": [
    "# Write a lambda function which can solve a slope or y-intercept of linear functions.\n",
    "\n",
    "linear_function = lambda x, m, b: m * x + b\n",
    "\n",
    "# Calculate y for a given x, slope (m), and y-intercept (b)\n",
    "result = linear_function(2, 3, 1)\n",
    "print(result)  # Output: 7\n",
    "\n",
    "# Solve for the slope (m) when x, y, and y-intercept (b) are given\n",
    "slope_solver = lambda x1, y1, x2, y2: (y2 - y1) / (x2 - x1)\n",
    "\n",
    "# Example usage:\n",
    "slope = slope_solver(1, 2, 3, 8)\n",
    "print(slope)  # Output: 3.0\n"
   ]
  }
 ],
 "metadata": {
  "language_info": {
   "name": "python"
  }
 },
 "nbformat": 4,
 "nbformat_minor": 2
}
