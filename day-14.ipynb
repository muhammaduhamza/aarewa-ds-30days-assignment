{
 "cells": [
  {
   "cell_type": "markdown",
   "metadata": {},
   "source": [
    "1. Explain the difference between map, filter, and reduce.\n",
    "\n",
    "In Python, map, filter, and reduce are built-in functions that operate on iterables like lists, tuples, or other iterable objects. They are often used in functional programming paradigms and can help make code more concise and expressive\n",
    "\n",
    "map Function:\n",
    "The map function applies a specified function to all items in an input iterable (e.g., a list) and returns an iterator that produces the results.\n",
    "Syntax: map(function, iterable)\n",
    "\n",
    "The filter function constructs a new iterable from elements of the input iterable for which a function returns True.\n",
    "Syntax: filter(function, iterable)\n",
    "\n",
    "\n",
    "The reduce function (in Python 3, it's moved to the functools module) performs a cumulative operation on the items of an iterable, reducing them to a single accumulated result.\n",
    "\n",
    "Syntax: functools.reduce(function, iterable[, initializer])\n",
    "\n"
   ]
  },
  {
   "cell_type": "code",
   "execution_count": 1,
   "metadata": {},
   "outputs": [
    {
     "name": "stdout",
     "output_type": "stream",
     "text": [
      "[1, 4, 9, 16, 25]\n"
     ]
    }
   ],
   "source": [
    "# Example  map transforms each element of an iterable using a given function \n",
    "numbers = [1, 2, 3, 4, 5]\n",
    "squared = map(lambda x: x**2, numbers)\n",
    "print(list(squared))\n",
    "# Output: [1, 4, 9, 16, 25]\n"
   ]
  },
  {
   "cell_type": "code",
   "execution_count": 2,
   "metadata": {},
   "outputs": [
    {
     "name": "stdout",
     "output_type": "stream",
     "text": [
      "[2, 4]\n"
     ]
    }
   ],
   "source": [
    "# Example filter   constructs a new iterable containing only the elements for which a specified function returns True\n",
    "numbers = [1, 2, 3, 4, 5]\n",
    "even_numbers = filter(lambda x: x % 2 == 0, numbers)\n",
    "print(list(even_numbers))\n",
    "# Output: [2, 4]\n"
   ]
  },
  {
   "cell_type": "code",
   "execution_count": 3,
   "metadata": {},
   "outputs": [
    {
     "name": "stdout",
     "output_type": "stream",
     "text": [
      "120\n"
     ]
    }
   ],
   "source": [
    "# Example reduce  cumulatively applies a binary function to the items of an iterable, reducing them to a single result.\n",
    "from functools import reduce\n",
    "numbers = [1, 2, 3, 4, 5]\n",
    "product = reduce(lambda x, y: x * y, numbers)\n",
    "print(product)\n",
    "# Output: 120\n"
   ]
  },
  {
   "cell_type": "markdown",
   "metadata": {},
   "source": [
    "2. Explain the difference between higher order function, closure and decorator\n",
    "\n",
    "Higher-Order Functions:\n",
    "A higher-order function is a function that takes one or more functions as arguments or returns a function as its result.\n",
    "In Python, functions are first-class citizens, meaning they can be passed as arguments to other functions and returned as values from other functions.\n",
    "\n",
    "Closures:\n",
    "A closure is a function object that has access to variables in its lexical scope, even when the function is called outside that scope.\n",
    "Closures allow a function to remember the environment in which it was created.\n",
    "\n",
    "Decorators:\n",
    "A decorator is a higher-order function that takes a function and extends or modifies its behavior without changing its source code.\n",
    "Decorators are often used to add functionality to functions or methods.\n",
    "They use the @decorator syntax in Python.\n",
    "\n",
    "\n",
    "A higher-order function is a function that takes functions as arguments or returns functions.\n",
    "A closure is a function object that retains access to variables in its lexical scope, even when called outside that scope.\n",
    "A decorator is a higher-order function that modifies the behavior of another function, typically by wrapping it with additional functionality.\n",
    "These concepts are fundamental to functional programming and are widely used in Python to write more modular and reusable code\n"
   ]
  },
  {
   "cell_type": "code",
   "execution_count": null,
   "metadata": {},
   "outputs": [],
   "source": [
    "# Example of a higher-order function:\n",
    "def apply_operation(func, x, y):\n",
    "    return func(x, y)\n",
    "\n",
    "def add(x, y):\n",
    "    return x + y\n",
    "\n",
    "result = apply_operation(add, 3, 4)\n",
    "print(result)  # Output: 7\n"
   ]
  },
  {
   "cell_type": "code",
   "execution_count": null,
   "metadata": {},
   "outputs": [],
   "source": [
    "#Example of a closure \n",
    "def outer_function(x):\n",
    "    def inner_function(y):\n",
    "        return x + y\n",
    "    return inner_function\n",
    "\n",
    "closure = outer_function(10)\n",
    "result = closure(5)\n",
    "print(result)  # Output: 15\n",
    "# this is example, inner_function is a closure because it \"closes over\" the variable x from its containing scope (outer_function)."
   ]
  },
  {
   "cell_type": "code",
   "execution_count": null,
   "metadata": {},
   "outputs": [],
   "source": [
    "# Example of a decorator\n",
    "def my_decorator(func):\n",
    "    def wrapper():\n",
    "        print(\"Something is happening before the function is called.\")\n",
    "        func()\n",
    "        print(\"Something is happening after the function is called.\")\n",
    "    return wrapper\n",
    "\n",
    "@my_decorator\n",
    "def say_hello():\n",
    "    print(\"Hello!\")\n",
    "\n",
    "say_hello()\n",
    "\n",
    "# In this example, my_decorator is a decorator that wraps the say_hello function, adding behavior before and after its execution"
   ]
  },
  {
   "cell_type": "markdown",
   "metadata": {},
   "source": [
    "3. Define a call function before map, filter or reduce, with examples.\n",
    "The call function is not a built-in Python function, so I'll assume you mean a simple function that you'll define before using map, filter, or reduce. Let's create a simple example"
   ]
  },
  {
   "cell_type": "code",
   "execution_count": null,
   "metadata": {},
   "outputs": [],
   "source": [
    "# Define a function that squares a number\n",
    "def square(x):\n",
    "    return x ** 2\n",
    "\n",
    "# Example using the 'map' function\n",
    "numbers = [1, 2, 3, 4, 5]\n",
    "squared_numbers = map(square, numbers)\n",
    "print(list(squared_numbers))\n",
    "# Output: [1, 4, 9, 16, 25] the square function is defined before using map.\n",
    "# The map function applies the square function to each element in the numbers list, \n",
    "#resulting in a new list of squared numbers.\n"
   ]
  },
  {
   "cell_type": "code",
   "execution_count": null,
   "metadata": {},
   "outputs": [],
   "source": [
    "# you can define functions before using filter and reduce:\n",
    "# Define a function that checks if a number is even\n",
    "def is_even(x):\n",
    "    return x % 2 == 0\n",
    "\n",
    "# Example using the 'filter' function\n",
    "numbers = [1, 2, 3, 4, 5]\n",
    "even_numbers = filter(is_even, numbers)\n",
    "print(list(even_numbers))\n",
    "# Output: [2, 4]\n",
    "\n",
    "# Import 'reduce' from functools module\n",
    "from functools import reduce\n",
    "\n",
    "# Define a function that calculates the product of two numbers\n",
    "def multiply(x, y):\n",
    "    return x * y\n",
    "\n",
    "# Example using the 'reduce' function\n",
    "numbers = [1, 2, 3, 4, 5]\n",
    "product = reduce(multiply, numbers)\n",
    "print(product)\n",
    "# Output: 120\n"
   ]
  },
  {
   "cell_type": "markdown",
   "metadata": {},
   "source": [
    "4. Use for loop to print each country in the countries list.\n",
    "\n"
   ]
  },
  {
   "cell_type": "code",
   "execution_count": null,
   "metadata": {},
   "outputs": [],
   "source": [
    "# List of 6 countries\n",
    "countries = [\"USA\", \"Canada\", \"France\", \"Japan\", \"Brazil\", \"Australia\"]\n",
    "\n",
    "# Using a for loop to print each country\n",
    "for country in countries:\n",
    "    print(country)\n"
   ]
  },
  {
   "cell_type": "markdown",
   "metadata": {},
   "source": [
    "5. Use for to print each name in the names list."
   ]
  },
  {
   "cell_type": "code",
   "execution_count": null,
   "metadata": {},
   "outputs": [],
   "source": [
    "# List of names\n",
    "names = [\"Alice\", \"Bob\", \"Charlie\", \"David\", \"Eva\"]\n",
    "\n",
    "# Using a for loop to print each name\n",
    "for name in names:\n",
    "    print(name)\n"
   ]
  },
  {
   "cell_type": "markdown",
   "metadata": {},
   "source": [
    "6. Use for to print each number in the numbers list."
   ]
  },
  {
   "cell_type": "code",
   "execution_count": 4,
   "metadata": {},
   "outputs": [
    {
     "name": "stdout",
     "output_type": "stream",
     "text": [
      "1\n",
      "2\n",
      "3\n",
      "4\n",
      "5\n"
     ]
    }
   ],
   "source": [
    "# List of numbers\n",
    "numbers = [1, 2, 3, 4, 5]\n",
    "\n",
    "# Using a for loop to print each number\n",
    "for number in numbers:\n",
    "    print(number)\n"
   ]
  },
  {
   "cell_type": "code",
   "execution_count": 5,
   "metadata": {},
   "outputs": [
    {
     "name": "stdout",
     "output_type": "stream",
     "text": [
      "['USA', 'CANADA', 'FRANCE', 'JAPAN', 'BRAZIL', 'AUSTRALIA']\n"
     ]
    }
   ],
   "source": [
    "#1  Use map to create a new list by changing each country to uppercase in the countries list\n",
    "\n",
    "# List of countries\n",
    "countries = [\"USA\", \"Canada\", \"France\", \"Japan\", \"Brazil\", \"Australia\"]\n",
    "\n",
    "# Use map to create a new list with uppercase countries\n",
    "uppercase_countries = list(map(str.upper, countries))\n",
    "\n",
    "# Print the new list\n",
    "print(uppercase_countries)\n"
   ]
  },
  {
   "cell_type": "code",
   "execution_count": null,
   "metadata": {},
   "outputs": [],
   "source": [
    "# 2  Use map to create a new list by changing each number to its square in the numbers list\n",
    "\n",
    "# List of numbers\n",
    "numbers = [1, 2, 3, 4, 5]\n",
    "\n",
    "# Use map to create a new list with squared numbers\n",
    "squared_numbers = list(map(lambda x: x**2, numbers))\n",
    "\n",
    "# Print the new list\n",
    "print(squared_numbers)\n"
   ]
  },
  {
   "cell_type": "code",
   "execution_count": null,
   "metadata": {},
   "outputs": [],
   "source": [
    "# 3 Use map to change each name to uppercase in the names list\n",
    "# List of names\n",
    "names = [\"Alice\", \"Bob\", \"Charlie\", \"David\", \"Eva\"]\n",
    "\n",
    "# Use map to create a new list with uppercase names\n",
    "uppercase_names = list(map(str.upper, names))\n",
    "\n",
    "# Print the new list\n",
    "print(uppercase_names)\n"
   ]
  },
  {
   "cell_type": "code",
   "execution_count": 7,
   "metadata": {},
   "outputs": [
    {
     "name": "stdout",
     "output_type": "stream",
     "text": [
      "['Nigeria']\n"
     ]
    }
   ],
   "source": [
    "# Use filter to filter out countries containing 'land'.\n",
    "\n",
    "# List of countries\n",
    "countries = [\"Finland\", \"Iceland\", \"Switzerland\", \"New Zealand\", \"Netherlands\",'Nigeria', \"Ireland\"]\n",
    "\n",
    "# Use filter to create a new list without countries containing 'land'\n",
    "filtered_countries = list(filter(lambda country: 'land' not in country.lower(), countries))\n",
    "\n",
    "# Print the new list\n",
    "print(filtered_countries)\n"
   ]
  },
  {
   "cell_type": "markdown",
   "metadata": {},
   "source": [
    "\n"
   ]
  },
  {
   "cell_type": "code",
   "execution_count": 8,
   "metadata": {},
   "outputs": [
    {
     "name": "stdout",
     "output_type": "stream",
     "text": [
      "['Nigeria', 'Japan', 'India']\n"
     ]
    }
   ],
   "source": [
    "# Use filter to filter out countries having exactly six characters.\n",
    "\n",
    "# List of countries\n",
    "countries = [\"Canada\", \"Brazil\",'Nigeria', \"France\", \"Japan\", \"India\", \"Mexico\"]\n",
    "\n",
    "# Use filter to create a new list without countries with exactly six characters\n",
    "filtered_countries = list(filter(lambda country: len(country) != 6, countries))\n",
    "\n",
    "# Print the new list\n",
    "print(filtered_countries)"
   ]
  },
  {
   "cell_type": "code",
   "execution_count": 9,
   "metadata": {},
   "outputs": [
    {
     "name": "stdout",
     "output_type": "stream",
     "text": [
      "['Japan', 'India']\n"
     ]
    }
   ],
   "source": [
    "#  Use filter to filter out countries containing six letters and more in the country list.\n",
    "\n",
    "# List of countries\n",
    "countries = [\"Canada\", \"Brazil\", \"France\", \"Japan\", \"India\", \"Mexico\"]\n",
    "\n",
    "# Use filter to create a new list without countries with six letters or more\n",
    "filtered_countries = list(filter(lambda country: len(country) < 6, countries))\n",
    "\n",
    "# Print the new list\n",
    "print(filtered_countries)\n"
   ]
  },
  {
   "cell_type": "code",
   "execution_count": 13,
   "metadata": {},
   "outputs": [
    {
     "name": "stdout",
     "output_type": "stream",
     "text": [
      "['England']\n"
     ]
    }
   ],
   "source": [
    "# Use filter to filter out countries starting with an 'E'\n",
    "\n",
    "# List of countries\n",
    "countries = [\"Canada\", \"Brazil\", \"France\", \"Japan\", \"India\",'England', \"Mexico\"]\n",
    "\n",
    "# Use filter to create a new list without countries starting with 'E'\n",
    "filtered_countries = list(filter(lambda country:  country.startswith ('E'), countries))\n",
    "\n",
    "# Print the new list\n",
    "print(filtered_countries)\n"
   ]
  },
  {
   "cell_type": "markdown",
   "metadata": {},
   "source": [
    " Chain two or more list iterators (eg. arr.map(callback).filter(callback).reduce(callback))\n",
    " \n",
    "n Python, you can chain multiple list iterators using method chaining or by nesting functions. While Python doesn't have direct equivalents to methods like map, filter, and reduce as seen in JavaScript, you can achieve similar functionality using list comprehensions, generator expressions, and built-in functions. Here's an "
   ]
  },
  {
   "cell_type": "code",
   "execution_count": null,
   "metadata": {},
   "outputs": [],
   "source": [
    "# List of numbers\n",
    "numbers = [1, 2, 3, 4, 5]\n",
    "\n",
    "# Chaining list iterators using list comprehensions\n",
    "result = (\n",
    "    [x**2 for x in numbers]   # map: square each number\n",
    "    |filter(lambda x: x % 2 == 0)  # filter: keep only even numbers\n",
    "    |sum   # reduce: sum the filtered numbers\n",
    ")\n",
    "\n",
    "print(result)\n",
    "\n",
    "# [x**2 for x in numbers] is a list comprehension that squares each number.\n",
    "# | filter(lambda x: x % 2 == 0) filters out odd numbers.\n",
    "# |sum calculates the sum of the filtered numbers\n",
    "\n",
    "# Note that this syntax using the | operator for chaining functions is available in \n",
    "#Python 3.10 and later. If you are using an earlier version, you can achieve a similar result using function calls\n"
   ]
  },
  {
   "cell_type": "code",
   "execution_count": 14,
   "metadata": {},
   "outputs": [
    {
     "name": "stdout",
     "output_type": "stream",
     "text": [
      "20\n"
     ]
    }
   ],
   "source": [
    "result = sum(filter(lambda x: x % 2 == 0, (x**2 for x in numbers)))\n",
    "print(result)\n"
   ]
  },
  {
   "cell_type": "code",
   "execution_count": null,
   "metadata": {},
   "outputs": [],
   "source": [
    "#  Declare a function called get_string_lists which takes a list as a parameter and then returns a list condef get_string_lists(input_list):\n",
    "\n",
    "\n",
    "def get_string_lists(input_list):\n",
    "    \"\"\"\n",
    "    Filters the input list to include only string items.\n",
    "\n",
    "    Parameters:\n",
    "    - input_list (list): The input list containing various data types.\n",
    "\n",
    "    Returns:\n",
    "    - list: A new list containing only string items.\n",
    "    \"\"\"\n",
    "    return [item for item in input_list if isinstance(item, str)]\n",
    "\n",
    "# Example usage:\n",
    "mixed_list = [1, \"apple\", 3.14, \"banana\", True, \"orange\"]\n",
    "string_list = get_string_lists(mixed_list)\n",
    "print(string_list)\n",
    "\n"
   ]
  },
  {
   "cell_type": "code",
   "execution_count": 15,
   "metadata": {},
   "outputs": [
    {
     "name": "stdout",
     "output_type": "stream",
     "text": [
      "15\n"
     ]
    }
   ],
   "source": [
    "# Use reduce to sum all the numbers in the numbers list.\n",
    "\n",
    "from functools import reduce\n",
    "\n",
    "# List of numbers\n",
    "numbers = [1, 2, 3, 4, 5]\n",
    "\n",
    "# Use reduce to sum all the numbers\n",
    "sum_of_numbers = reduce(lambda x, y: x + y, numbers)\n",
    "\n",
    "print(sum_of_numbers)\n"
   ]
  },
  {
   "cell_type": "markdown",
   "metadata": {},
   "source": [
    " Use reduce to concatenate all the countries and to produce this sentence: Estonia, Finland, Sweden, Denmark, Norway, and Iceland are north European countries"
   ]
  },
  {
   "cell_type": "code",
   "execution_count": 16,
   "metadata": {},
   "outputs": [
    {
     "name": "stdout",
     "output_type": "stream",
     "text": [
      "Estonia, Finland, Sweden, Denmark, Norway, Iceland are north European countries.\n"
     ]
    }
   ],
   "source": [
    "from functools import reduce\n",
    "\n",
    "# List of countries\n",
    "countries = [\"Estonia\", \"Finland\", \"Sweden\", \"Denmark\", \"Norway\", \"Iceland\"]\n",
    "\n",
    "# Use reduce to concatenate all the countries into a sentence\n",
    "sentence = reduce(lambda x, y: f\"{x}, {y}\", countries)\n",
    "\n",
    "# Print the sentence\n",
    "print(f\"{sentence} are north European countries.\")\n"
   ]
  },
  {
   "cell_type": "markdown",
   "metadata": {},
   "source": [
    "Declare a function called categorize_countries that returns a list of countries with some common pattern (you can find the [countries list](https://github.com/Asabeneh/30-Days-Of-Python/blob/master/data/countries.py) in this repository as countries.js(eg 'land', 'ia', 'island', 'stan'))."
   ]
  },
  {
   "cell_type": "code",
   "execution_count": 17,
   "metadata": {},
   "outputs": [
    {
     "name": "stdout",
     "output_type": "stream",
     "text": [
      "['Finland', 'Iceland', 'Ireland', 'Marshall Islands', 'Netherlands', 'New Zealand', 'Poland', 'Solomon Islands', 'Switzerland', 'Thailand']\n"
     ]
    }
   ],
   "source": [
    "def categorize_countries(pattern):\n",
    "    \"\"\"\n",
    "    Categorizes countries based on a given pattern.\n",
    "\n",
    "    Parameters:\n",
    "    - pattern (str): The pattern to search for in country names.\n",
    "\n",
    "    Returns:\n",
    "    - list: A list of countries containing the specified pattern.\n",
    "    \"\"\"\n",
    "    # List of countries (you can replace this with your own list or fetch it from an external source)\n",
    "    countries = [\"Afghanistan\", \"Albania\", \"Algeria\", \"Andorra\", \"Angola\", \"Antigua and Barbuda\", \"Argentina\", \"Armenia\", \"Australia\", \"Austria\", \"Azerbaijan\", \"Bahamas\", \"Bahrain\", \"Bangladesh\", \"Barbados\", \"Belarus\", \"Belgium\", \"Belize\", \"Benin\", \"Bhutan\", \"Bolivia\", \"Bosnia and Herzegovina\", \"Botswana\", \"Brazil\", \"Brunei\", \"Bulgaria\", \"Burkina Faso\", \"Burundi\", \"Cabo Verde\", \"Cambodia\", \"Cameroon\", \"Canada\", \"Central African Republic\", \"Chad\", \"Chile\", \"China\", \"Colombia\", \"Comoros\", \"Congo\", \"Costa Rica\", \"Cote d'Ivoire\", \"Croatia\", \"Cuba\", \"Cyprus\", \"Czech Republic\", \"Denmark\", \"Djibouti\", \"Dominica\", \"Dominican Republic\", \"Ecuador\", \"Egypt\", \"El Salvador\", \"Equatorial Guinea\", \"Eritrea\", \"Estonia\", \"Eswatini\", \"Ethiopia\", \"Fiji\", \"Finland\", \"France\", \"Gabon\", \"Gambia\", \"Georgia\", \"Germany\", \"Ghana\", \"Greece\", \"Grenada\", \"Guatemala\", \"Guinea\", \"Guinea-Bissau\", \"Guyana\", \"Haiti\", \"Honduras\", \"Hungary\", \"Iceland\", \"India\", \"Indonesia\", \"Iran\", \"Iraq\", \"Ireland\", \"Israel\", \"Italy\", \"Jamaica\", \"Japan\", \"Jordan\", \"Kazakhstan\", \"Kenya\", \"Kiribati\", \"Korea\", \"Kosovo\", \"Kuwait\", \"Kyrgyzstan\", \"Laos\", \"Latvia\", \"Lebanon\", \"Lesotho\", \"Liberia\", \"Libya\", \"Liechtenstein\", \"Lithuania\", \"Luxembourg\", \"Madagascar\", \"Malawi\", \"Malaysia\", \"Maldives\", \"Mali\", \"Malta\", \"Marshall Islands\", \"Mauritania\", \"Mauritius\", \"Mexico\", \"Micronesia\", \"Moldova\", \"Monaco\", \"Mongolia\", \"Montenegro\", \"Morocco\", \"Mozambique\", \"Myanmar\", \"Namibia\", \"Nauru\", \"Nepal\", \"Netherlands\", \"New Zealand\", \"Nicaragua\", \"Niger\", \"Nigeria\", \"North Macedonia\", \"Norway\", \"Oman\", \"Pakistan\", \"Palau\", \"Panama\", \"Papua New Guinea\", \"Paraguay\", \"Peru\", \"Philippines\", \"Poland\", \"Portugal\", \"Qatar\", \"Romania\", \"Russia\", \"Rwanda\", \"Saint Kitts and Nevis\", \"Saint Lucia\", \"Saint Vincent and the Grenadines\", \"Samoa\", \"San Marino\", \"Sao Tome and Principe\", \"Saudi Arabia\", \"Senegal\", \"Serbia\", \"Seychelles\", \"Sierra Leone\", \"Singapore\", \"Slovakia\", \"Slovenia\", \"Solomon Islands\", \"Somalia\", \"South Africa\", \"South Sudan\", \"Spain\", \"Sri Lanka\", \"Sudan\", \"Suriname\", \"Sweden\", \"Switzerland\", \"Syria\", \"Taiwan\", \"Tajikistan\", \"Tanzania\", \"Thailand\", \"Timor-Leste\", \"Togo\", \"Tonga\", \"Trinidad and Tobago\", \"Tunisia\", \"Turkey\", \"Turkmenistan\", \"Tuvalu\", \"Uganda\", \"Ukraine\", \"United Arab Emirates\", \"United Kingdom\", \"United States\", \"Uruguay\", \"Uzbekistan\", \"Vanuatu\", \"Vatican City\", \"Venezuela\", \"Vietnam\", \"Yemen\", \"Zambia\", \"Zimbabwe\"]\n",
    "\n",
    "    # Use filter to create a new list with countries containing the specified pattern\n",
    "    categorized_countries = list(filter(lambda country: pattern.lower() in country.lower(), countries))\n",
    "\n",
    "    return categorized_countries\n",
    "\n",
    "# Example usage:\n",
    "result = categorize_countries(\"land\")\n",
    "print(result)\n"
   ]
  },
  {
   "cell_type": "markdown",
   "metadata": {},
   "source": [
    " Create a function returning a dictionary, where keys stand for starting letters of countries and values are the number of country names starting with that letter.\n",
    "\n"
   ]
  },
  {
   "cell_type": "code",
   "execution_count": 19,
   "metadata": {},
   "outputs": [
    {
     "name": "stdout",
     "output_type": "stream",
     "text": [
      "{'A': 1, 'B': 1, 'C': 1, 'D': 1, 'E': 1, 'F': 1, 'G': 1, 'H': 1, 'I': 1, 'J': 1, 'K': 1, 'L': 1, 'M': 1, 'N': 1, 'O': 1, 'P': 1, 'Q': 1, 'R': 1, 'S': 1, 'T': 1, 'U': 1, 'V': 1, 'W': 1, 'Y': 1, 'Z': 1}\n"
     ]
    }
   ],
   "source": [
    "def count_countries_by_starting_letter(country_names):\n",
    "    \"\"\"\n",
    "    Count the number of country names starting with each letter.\n",
    "\n",
    "    Parameters:\n",
    "    - country_names (list): List of country names.\n",
    "\n",
    "    Returns:\n",
    "    - dict: A dictionary where keys are starting letters and values are counts.\n",
    "    \"\"\"\n",
    "    starting_letter_counts = {}\n",
    "\n",
    "    for country in country_names:\n",
    "        # Get the first letter of each country name\n",
    "        starting_letter = country[0].upper()\n",
    "\n",
    "        # Update the count for the starting letter in the dictionary\n",
    "        starting_letter_counts[starting_letter] = starting_letter_counts.get(starting_letter, 0) + 1\n",
    "\n",
    "    return starting_letter_counts\n",
    "\n",
    "# Example usage:\n",
    "countries = [\"Argentina\", \"Brazil\", \"Canada\", \"Denmark\", \"Ecuador\", \"Finland\", \"Greece\", \"Honduras\", \"India\", \"Japan\", \"Kuwait\", \"Lebanon\", \"Mexico\", \"Norway\", \"Oman\", \"Portugal\", \"Qatar\", \"Russia\", \"Spain\", \"Turkey\", \"Ukraine\", \"Vietnam\", \"Wales\", \"Yemen\", \"Zimbabwe\"]\n",
    "letter_counts = count_countries_by_starting_letter(countries)\n",
    "print(letter_counts)\n"
   ]
  },
  {
   "cell_type": "markdown",
   "metadata": {},
   "source": [
    " Declare a get_first_ten_countries function - it returns a list of first ten countries from the countries.js list in the data folder."
   ]
  },
  {
   "cell_type": "code",
   "execution_count": null,
   "metadata": {},
   "outputs": [],
   "source": [
    "# Assuming you have a Python file named countries.py\n",
    "# with a list of countries like this:\n",
    "# countries.py\n",
    "# countries = [\"Country1\", \"Country2\", ...]\n",
    "\n",
    "def get_first_ten_countries():\n",
    "    \"\"\"\n",
    "    Returns a list of the first ten countries.\n",
    "\n",
    "    Returns:\n",
    "    - list: A list containing the first ten countries.\n",
    "    \"\"\"\n",
    "    from data.countries import countries  # Assuming the list is in the data folder\n",
    "\n",
    "    return countries[:10]\n",
    "\n",
    "# Example usage:\n",
    "first_ten_countries = get_first_ten_countries()\n",
    "print(first_ten_countries)\n"
   ]
  },
  {
   "cell_type": "code",
   "execution_count": null,
   "metadata": {},
   "outputs": [],
   "source": [
    "# Declare a get_last_ten_countries function that returns the last ten countries in the countries list.\n",
    "\n",
    "# Assuming you have a Python file named countries.py\n",
    "# with a list of countries like this:\n",
    "# countries.py\n",
    "# countries = [\"Country1\", \"Country2\", ...]\n",
    "\n",
    "def get_last_ten_countries():\n",
    "    \"\"\"\n",
    "    Returns a list of the last ten countries.\n",
    "\n",
    "    Returns:\n",
    "    - list: A list containing the last ten countries.\n",
    "    \"\"\"\n",
    "    from data.countries import countries  # Assuming the list is in the data folder\n",
    "\n",
    "    return countries[-10:]\n",
    "\n",
    "# Example usage:\n",
    "last_ten_countries = get_last_ten_countries()\n",
    "print(last_ten_countries)\n"
   ]
  },
  {
   "cell_type": "markdown",
   "metadata": {},
   "source": [
    "Use the countries_data.py (https://github.com/Asabeneh/30-Days-Of-Python/blob/master/data/countries-data.py) file and follow the tasks below:\n",
    "   a- Sort countries by name, by capital, by population\n",
    "   b- Sort out the ten most spoken languages by location.\n",
    "   c- Sort out the ten most populated countries."
   ]
  },
  {
   "cell_type": "code",
   "execution_count": null,
   "metadata": {},
   "outputs": [],
   "source": [
    "#a\n",
    "from data.countries_data import countries\n",
    "\n",
    "# Sort by name\n",
    "sorted_by_name = sorted(countries, key=lambda country: country['name'])\n",
    "\n",
    "# Sort by capital\n",
    "sorted_by_capital = sorted(countries, key=lambda country: country['capital'])\n",
    "\n",
    "# Sort by population\n",
    "sorted_by_population = sorted(countries, key=lambda country: country['population'])\n",
    "\n",
    "print(\"Sorted by Name:\")\n",
    "print(sorted_by_name)\n",
    "\n",
    "print(\"\\nSorted by Capital:\")\n",
    "print(sorted_by_capital)\n",
    "\n",
    "print(\"\\nSorted by Population:\")\n",
    "print(sorted_by_population)\n"
   ]
  },
  {
   "cell_type": "code",
   "execution_count": null,
   "metadata": {},
   "outputs": [],
   "source": [
    "#b\n",
    "from data.countries_data import countries\n",
    "\n",
    "# Extract languages and locations\n",
    "languages_by_location = [(country['languages'], country['location']) for country in countries]\n",
    "\n",
    "# Flatten the list of languages\n",
    "all_languages = [language for languages, _ in languages_by_location for language in languages]\n",
    "\n",
    "# Count occurrences of each language\n",
    "language_counts = {language: all_languages.count(language) for language in set(all_languages)}\n",
    "\n",
    "# Sort by count and get the top 10\n",
    "top_10_languages = sorted(language_counts.items(), key=lambda x: x[1], reverse=True)[:10]\n",
    "\n",
    "print(\"Top 10 Most Spoken Languages:\")\n",
    "print(top_10_languages)\n"
   ]
  },
  {
   "cell_type": "code",
   "execution_count": null,
   "metadata": {},
   "outputs": [],
   "source": [
    "#c\n",
    "from data.countries_data import countries\n",
    "\n",
    "# Sort by population and get the top 10\n",
    "top_10_populated_countries = sorted(countries, key=lambda country: country['population'], reverse=True)[:10]\n",
    "\n",
    "print(\"Top 10 Most Populated Countries:\")\n",
    "print(top_10_populated_countries)\n"
   ]
  }
 ],
 "metadata": {
  "kernelspec": {
   "display_name": "base",
   "language": "python",
   "name": "python3"
  },
  "language_info": {
   "codemirror_mode": {
    "name": "ipython",
    "version": 3
   },
   "file_extension": ".py",
   "mimetype": "text/x-python",
   "name": "python",
   "nbconvert_exporter": "python",
   "pygments_lexer": "ipython3",
   "version": "3.9.12"
  }
 },
 "nbformat": 4,
 "nbformat_minor": 2
}
