{
 "cells": [
  {
   "cell_type": "code",
   "execution_count": null,
   "metadata": {},
   "outputs": [],
   "source": [
    "# Get user input for age\n",
    "UserAge = int(input(\"Enter your age: \"))\n",
    "\n",
    "# Check if the user is 18 or older\n",
    "if UserAge >= 18:\n",
    "    print(\"You are old enough to learn to drive.\")\n",
    "else:\n",
    "    # Calculate the number of years the user needs to wait\n",
    "    YearsToWait = 18 - UserAge\n",
    "    print(f\"You need {YearsToWait} more {'year' if years_to_wait == 1 else 'years'} to learn to drive.\")\n"
   ]
  },
  {
   "cell_type": "markdown",
   "metadata": {},
   "source": [
    "Compare the values of my_age and your_age using if … else. Who is older (me or you)? Use input(“Enter your age: ”) to get the age as input. You can use a nested condition to print 'year' for 1 year difference in age, 'years' for bigger differences, and a custom text if my_age = your_age. Output:\n",
    "    ```sh\n",
    "    Enter your age: 30\n",
    "    You are 5 years older than me"
   ]
  },
  {
   "cell_type": "code",
   "execution_count": null,
   "metadata": {},
   "outputs": [],
   "source": [
    "# Get user input for your age\n",
    "YourAge = int(input(\"Enter your age: \"))\n",
    "\n",
    "# Assume my_age is 25 for the sake of the example\n",
    "MyAge = 25\n",
    "\n",
    "# Compare ages and print the appropriate message\n",
    "if MyAge > YourAge:\n",
    "    AgeDifference = MyAge - YourAge\n",
    "    print(f\"I am {AgeDifference} {'year' if age_difference == 1 else 'years'} older than you.\")\n",
    "elif my_age < your_age:\n",
    "    AgeDifference = YourAge - MyAge\n",
    "    print(f\"You are {AgeDifference} {'year' if age_difference == 1 else 'years'} older than me.\")\n",
    "else:\n",
    "    print(\"We are the same age.\")\n"
   ]
  },
  {
   "cell_type": "markdown",
   "metadata": {},
   "source": [
    "Get two numbers from the user using input prompt. If a is greater than b return a is greater than b, if a is less b return a is smaller than b, else a is equal to b. Output:\n",
    "\n",
    "```sh\n",
    "Enter number one: 4\n",
    "Enter number two: 3\n",
    "4 is greater than 3"
   ]
  },
  {
   "cell_type": "code",
   "execution_count": null,
   "metadata": {},
   "outputs": [],
   "source": [
    "# Get two numbers from the user\n",
    "AgeDifference = float(input(\"Enter number one: \"))\n",
    "B = float(input(\"Enter number two: \"))\n",
    "\n",
    "# Compare the two numbers\n",
    "if A > B:\n",
    "    print(f\"{A} is greater than {B}.\")\n",
    "elif A < B:\n",
    "    print(f\"{A} is smaller than {B}.\")\n",
    "else:\n",
    "    print(f\"{A} is equal to {B}.\")\n"
   ]
  },
  {
   "cell_type": "markdown",
   "metadata": {},
   "source": [
    "Write a code which gives grade to students according to theirs scores:\n",
    "   \n",
    "            80-100, A\n",
    "        70-89, B\n",
    "        60-69, C\n",
    "        50-59, D\n",
    "        0-49, F"
   ]
  },
  {
   "cell_type": "code",
   "execution_count": null,
   "metadata": {},
   "outputs": [],
   "source": [
    "# Get the student's score from the user\n",
    "score = int(input(\"Enter the student's score: \"))\n",
    "\n",
    "# Assign grades based on the score\n",
    "if 80 <= score <= 100:\n",
    "    grade = \"A\"\n",
    "elif 70 <= score <= 89:\n",
    "    grade = \"B\"\n",
    "elif 60 <= score <= 69:\n",
    "    grade = \"C\"\n",
    "elif 50 <= score <= 59:\n",
    "    grade = \"D\"\n",
    "elif 0 <= score <= 49:\n",
    "    grade = \"F\"\n",
    "else:\n",
    "    grade = \"Invalid score, please enter a score between 0 and 100.\"\n",
    "\n",
    "# Print the assigned grade\n",
    "print(f\"The student's grade is: {grade}\")\n"
   ]
  },
  {
   "cell_type": "markdown",
   "metadata": {},
   "source": [
    "Check if the season is Autumn, Winter, Spring or Summer. If the user input is:\n",
    "    September, October or November, the season is Autumn.\n",
    "    December, January or February, the season is Winter.\n",
    "    March, April or May, the season is Spring\n",
    "    June, July or August, the season is Summer"
   ]
  },
  {
   "cell_type": "code",
   "execution_count": null,
   "metadata": {},
   "outputs": [],
   "source": [
    "# Get the user input for the month\n",
    "month = input(\"Enter the month: \")\n",
    "\n",
    "# Convert the input to lowercase for case-insensitive comparison\n",
    "month = month.lower()\n",
    "\n",
    "# Check the season based on the month\n",
    "if month in {\"september\", \"october\", \"november\"}:\n",
    "    season = \"Autumn\"\n",
    "elif month in {\"december\", \"january\", \"february\"}:\n",
    "    season = \"Winter\"\n",
    "elif month in {\"march\", \"april\", \"may\"}:\n",
    "    season = \"Spring\"\n",
    "elif month in {\"june\", \"july\", \"august\"}:\n",
    "    season = \"Summer\"\n",
    "else:\n",
    "    season = \"Invalid month, please enter a valid month.\"\n",
    "\n",
    "# Print the determined season\n",
    "print(f\"The season for {month.capitalize()} is: {season}\")\n"
   ]
  },
  {
   "cell_type": "markdown",
   "metadata": {},
   "source": [
    "The following list contains some fruits:\n",
    "    ```sh\n",
    "    fruits = ['banana', 'orange', 'mango', 'lemon']\n",
    "    ```\n",
    "    If a fruit doesn't exist in the list add the fruit to the list and print the modified list. If the fruit exists print('That fruit already exist in the list') "
   ]
  },
  {
   "cell_type": "code",
   "execution_count": null,
   "metadata": {},
   "outputs": [],
   "source": [
    "FruitNane = input('enter the fruit name')\n",
    "fruits = ['banana', 'orange', 'mango', 'lemon']\n",
    "if FruitNane in fruits: \n",
    "    print ('the new fruit added,{FruitNane} is already present')\n",
    "else:\n",
    "    fruits = fruits + FruitNane\n",
    "print(fruits)  \n"
   ]
  },
  {
   "cell_type": "markdown",
   "metadata": {},
   "source": [
    "1-Check if the person dictionary has skills key, if so print out the middle skill in the skills list.\n",
    " Check if the person dictionary has skills key, if so check if the person has 'Python' skill and print out the result."
   ]
  },
  {
   "cell_type": "code",
   "execution_count": null,
   "metadata": {},
   "outputs": [],
   "source": [
    "# The person dictionary\n",
    "person = {\n",
    "    'first_name': 'Asabeneh','last_name': 'Yetayeh', 'age': 250, 'country': 'Finland', 'is_married': True,\n",
    "    'skills': ['JavaScript', 'React', 'Node', 'MongoDB', 'Python'],\n",
    "    'address': {'street': 'Space street', 'zipcode': '02210'}\n",
    "         }\n",
    "\n",
    "# 1. Check if the person dictionary has 'skills' key and print the middle skill\n",
    "\n",
    "if 'skills' in person:\n",
    "    skills_list = person['skills']\n",
    "    skills_length = len(skills_list)\n",
    "\n",
    "    if skills_length % 2 != 0:  # Odd number of skills\n",
    "        middle_skill_index = skills_length // 2\n",
    "        middle_skill = skills_list[middle_skill_index]\n",
    "        print(f\"The middle skill is: {middle_skill}\")\n",
    "    else:\n",
    "        print(\"The skills list has an even number of skills.\")\n",
    "\n",
    "# 2. Check if the person dictionary has 'skills' key and 'Python' skill\n",
    "if 'skills' in person:\n",
    "    has_python_skill = 'Python' in person['skills']\n",
    "    print(f\"Does the person have 'Python' skill? {has_python_skill}\")\n"
   ]
  },
  {
   "cell_type": "code",
   "execution_count": null,
   "metadata": {},
   "outputs": [],
   "source": [
    "# The person dictionary\n",
    "person = {\n",
    "    'first_name': 'Asabeneh',\n",
    "    'last_name': 'Yetayeh',\n",
    "    'age': 250,\n",
    "    'country': 'Finland',\n",
    "    'is_married': True,\n",
    "    'skills': ['JavaScript', 'React', 'Node', 'MongoDB', 'Python'],\n",
    "    'address': {'street': 'Space street', 'zipcode': '02210'} }\n",
    "\n",
    "# Check if the person is a front-end developer\n",
    "if 'skills' in person and set(['JavaScript', 'React']).issubset(set(person['skills'])):\n",
    "    print(\"He is a front-end developer\")\n",
    "\n",
    "# Check if the person is a backend developer\n",
    "elif 'skills' in person and set(['Node', 'Python', 'MongoDB']).issubset(set(person['skills'])):\n",
    "    print(\"He is a backend developer\")\n",
    "\n",
    "# Check if the person is a fullstack developer\n",
    "elif 'skills' in person and set(['React', 'Node', 'MongoDB']).issubset(set(person['skills'])):\n",
    "    print(\"He is a fullstack developer\")\n",
    "\n",
    "# If none of the above conditions are met, print 'unknown title'\n",
    "else:\n",
    "    print('Unknown title')\n",
    "\n",
    "# Check if the person is married and lives in Finland\n",
    "if person.get('is_married') and person.get('country') == 'Finland':\n",
    "    print(f\"{person['first_name']} {person['last_name']} lives in Finland. He is married.\")\n"
   ]
  }
 ],
 "metadata": {
  "language_info": {
   "name": "python"
  }
 },
 "nbformat": 4,
 "nbformat_minor": 2
}
