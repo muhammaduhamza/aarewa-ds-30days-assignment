{
 "cells": [
  {
   "cell_type": "markdown",
   "metadata": {},
   "source": [
    "### Exercises: Level 1\n",
    "\n",
    "\n",
    "\n",
    "### Exercises: Level 2\n",
    "\n",
    "\n",
    "\n",
    "### Exercises: Level 3\n",
    "\n",
    "1. Convert the ages to a set and compare the length of the list and the set, which one is bigger?\n",
    "1. Explain the difference between the following data types: string, list, tuple and set\n",
    "2. _I am a teacher and I love to inspire and teach people._ How many unique words have been used in the sentence? Use the split methods and set to get the unique words."
   ]
  },
  {
   "cell_type": "markdown",
   "metadata": {},
   "source": [
    "1. Find the length of the set it_companies\n",
    "2. Add 'Twitter' to it_companies\n",
    "3. Insert multiple IT companies at once to the set it_companies\n",
    "4. Remove one of the companies from the set it_companies\n",
    "5. What is the difference between remove and discard"
   ]
  },
  {
   "cell_type": "code",
   "execution_count": null,
   "metadata": {},
   "outputs": [],
   "source": [
    "it_companies= set(['musa', 'Garba','Aminu'])\n",
    "SetLength = len(it_companies)\n",
    "\n",
    "it_companies =it_companies.add(['Twitter'])\n",
    "\n",
    "it_companies.updata(['as','sd','df'])\n",
    "it_companies.remove(['musa'])\n",
    "\n",
    "\n"
   ]
  },
  {
   "cell_type": "markdown",
   "metadata": {},
   "source": [
    "5. What is the difference between remove and discard\n",
    " taking item from a set while discard like making the set empty, no more element contained\n",
    " \n"
   ]
  },
  {
   "cell_type": "markdown",
   "metadata": {},
   "source": [
    "1. Join A and B\n",
    "1. Find A intersection B\n",
    "1. Is A subset of B\n",
    "1. Are A and B disjoint sets\n",
    "1. Join A with B and B with A\n",
    "1. What is the symmetric difference between A and B\n",
    "1. Delete the sets completely"
   ]
  },
  {
   "cell_type": "code",
   "execution_count": null,
   "metadata": {},
   "outputs": [],
   "source": [
    "SetA = set(['a','b','c','d'])\n",
    "SetB = set(['d','e','f'])\n",
    "SetA.updata(SetB)\n",
    "Set3 = SetA.union(SetB)\n",
    "SetA\n"
   ]
  },
  {
   "cell_type": "markdown",
   "metadata": {},
   "source": [
    "symmetrical differences\n"
   ]
  },
  {
   "cell_type": "code",
   "execution_count": null,
   "metadata": {},
   "outputs": [],
   "source": [
    "SetC = set(['a','b','c','d']) \n",
    "SetD = set(['c','d','e','f'])\n",
    "Set3 = SetC.symmetric_difference(SetD)\n"
   ]
  },
  {
   "cell_type": "code",
   "execution_count": null,
   "metadata": {},
   "outputs": [],
   "source": [
    "SetC = set(['a','b','c','d']) \n"
   ]
  }
 ],
 "metadata": {
  "kernelspec": {
   "display_name": "base",
   "language": "python",
   "name": "python3"
  },
  "language_info": {
   "name": "python",
   "version": "3.9.12"
  },
  "vscode": {
   "interpreter": {
    "hash": "99939eb298393b3eeace174449b21294aa8744367fd7853b2deb8073e3b1213a"
   }
  }
 },
 "nbformat": 4,
 "nbformat_minor": 2
}
